{
  "nbformat": 4,
  "nbformat_minor": 0,
  "metadata": {
    "colab": {
      "provenance": []
    },
    "kernelspec": {
      "name": "python3",
      "display_name": "Python 3"
    },
    "language_info": {
      "name": "python"
    }
  },
  "cells": [
    {
      "cell_type": "markdown",
      "source": [],
      "metadata": {
        "id": "9aFzm874fHyk"
      }
    },
    {
      "cell_type": "code",
      "source": [
        "import random\n",
        "import unittest"
      ],
      "metadata": {
        "id": "pWyqpa18Na_f"
      },
      "execution_count": 30,
      "outputs": []
    },
    {
      "cell_type": "code",
      "source": [
        "# Genetic Algorithm Components\n",
        "def fitness(individual):\n",
        "    target = 50\n",
        "    return -abs(target - sum(individual))"
      ],
      "metadata": {
        "id": "t1_lzDfVNcyu"
      },
      "execution_count": 31,
      "outputs": []
    },
    {
      "cell_type": "markdown",
      "source": [
        "Q. No: 1 - Complete the following function which perfroms the mutution ! **5 marks**"
      ],
      "metadata": {
        "id": "q7GNepq0NxVg"
      }
    },
    {
      "cell_type": "code",
      "source": [
        "def mutate(individual, mutation_rate=0.08):\n",
        "    for i in range(len(individual)):\n",
        "        if random.random() < mutation_rate:\n",
        "            individual[i] = 1 - individual[i]\n",
        "    return individual"
      ],
      "metadata": {
        "id": "D_COO2A8NwE2"
      },
      "execution_count": 32,
      "outputs": []
    },
    {
      "cell_type": "markdown",
      "source": [
        "Q. No: 2 - Complete the following function which perfroms the crossover ! **5 marks**"
      ],
      "metadata": {
        "id": "koqoeN7cOuaT"
      }
    },
    {
      "cell_type": "code",
      "source": [
        "def crossover(parent1, parent2):\n",
        "    assert len(parent1) == len(parent2), \"Both parents must have the same length\"\n",
        "    crossover_point = 2\n",
        "    child1 = parent1[:crossover_point] + parent2[crossover_point:]\n",
        "    child2 = parent2[:crossover_point] + parent1[crossover_point:]\n",
        "    return child1, child2"
      ],
      "metadata": {
        "id": "reeB9UnGNtlh"
      },
      "execution_count": 33,
      "outputs": []
    },
    {
      "cell_type": "markdown",
      "source": [
        "Basic Definations for Min Max and alpha Beta"
      ],
      "metadata": {
        "id": "QYvYt6FfPJUK"
      }
    },
    {
      "cell_type": "code",
      "source": [
        "class Node:\n",
        "    def __init__(self, value=None, children=None):\n",
        "        self.value = value\n",
        "        self.children = children if children is not None else []\n",
        "\n",
        "    def is_terminal(self):\n",
        "        return len(self.children) == 0\n",
        "\n",
        "# Sample game tree setup\n",
        "def setup_test_nodes():\n",
        "    # Deepest level nodes (Level 3)\n",
        "    level3_nodes = [Node(3), Node(15), Node(5)]\n",
        "\n",
        "    # Mid-level nodes (Level 2) - should aggregate to select min/max correctly\n",
        "    level2_nodes = [Node(children=[level3_nodes[0], level3_nodes[1]]), Node(children=[level3_nodes[2]])]\n",
        "\n",
        "    # Root node (Level 1) - combines level 2 nodes\n",
        "    root = Node(children=level2_nodes)\n",
        "    return root"
      ],
      "metadata": {
        "id": "6U4DZxCPPIJM"
      },
      "execution_count": 34,
      "outputs": []
    },
    {
      "cell_type": "markdown",
      "source": [
        "Q. No: 3 - Complete the following function which perfroms the min_max ! **5 marks**"
      ],
      "metadata": {
        "id": "AfcD4n5GPNuU"
      }
    },
    {
      "cell_type": "code",
      "source": [
        "def min_max(node, depth, is_maximizing_player):\n",
        "    if depth == 0 or node.is_terminal():\n",
        "        return node.value\n",
        "\n",
        "    if is_maximizing_player:\n",
        "        value = -float('inf')\n",
        "        for child in node.children:\n",
        "            value = max(value, min_max(child, depth - 1, False))\n",
        "        return value\n",
        "    else:\n",
        "        value = float('inf')\n",
        "        for child in node.children:\n",
        "            value = min(value, min_max(child, depth - 1, True))\n",
        "        return value"
      ],
      "metadata": {
        "id": "RF09RGQpF81r"
      },
      "execution_count": 35,
      "outputs": []
    },
    {
      "cell_type": "markdown",
      "source": [
        "Q. No: 4 - Complete the following function which perfroms the min_max ! **5 marks**"
      ],
      "metadata": {
        "id": "1VqsAl9cPXC5"
      }
    },
    {
      "cell_type": "code",
      "source": [
        "def alpha_beta(node, depth, alpha, beta, is_maximizing_player):\n",
        "    # Base case: terminal node or maximum depth reached\n",
        "    if depth == 0 or node.is_terminal():\n",
        "        return node.value\n",
        "\n",
        "    if is_maximizing_player:\n",
        "        value = -float('inf')\n",
        "        for child in node.children:\n",
        "            value = max(value, alpha_beta(child, depth - 1, alpha, beta, False))\n",
        "            alpha = max(alpha, value)\n",
        "            if beta <= alpha:  # Beta cut-off\n",
        "                break\n",
        "        return value\n",
        "    else:\n",
        "        value = float('inf')\n",
        "        for child in node.children:\n",
        "            value = min(value, alpha_beta(child, depth - 1, alpha, beta, True))\n",
        "            beta = min(beta, value)\n",
        "            if beta <= alpha:  # Alpha cut-off\n",
        "                break\n",
        "        return value"
      ],
      "metadata": {
        "id": "q5R1b_jtPaAy"
      },
      "execution_count": 36,
      "outputs": []
    },
    {
      "cell_type": "code",
      "source": [
        "# Unit Testing\n",
        "class TestAlgorithms(unittest.TestCase):\n",
        "    def test_mutate(self):\n",
        "        individual = [5, 5, 5, 5, 5]\n",
        "        mutated = mutate(individual, mutation_rate=1)  # Forcing mutation\n",
        "        self.assertNotEqual(mutated, [5, 5, 5, 5, 5], \"Mutation did not occur\")\n",
        "\n",
        "    def test_crossover(self):\n",
        "        parent1 = [1, 2, 3, 4, 5]\n",
        "        parent2 = [6, 7, 8, 9, 10]\n",
        "        child1, child2 = crossover(parent1, parent2)\n",
        "        self.assertEqual(child1, [1, 2, 8, 9, 10], \"Crossover child1 incorrect\")\n",
        "        self.assertEqual(child2, [6, 7, 3, 4, 5], \"Crossover child2 incorrect\")\n",
        "\n",
        "    def test_min_max(self):\n",
        "        root = setup_test_nodes()\n",
        "        # Assuming the test starts with maximizing at the root\n",
        "        self.assertEqual(min_max(root, 3, True), 5, \"Min-Max minimization failed\")\n",
        "\n",
        "    def test_alpha_beta(self):\n",
        "        root = setup_test_nodes()\n",
        "        # Assuming the test starts with maximizing at the root\n",
        "        self.assertEqual(alpha_beta(root, 3, -float('inf'), float('inf'), True), 5, \"Alpha-Beta pruning minimization failed\")\n",
        "\n",
        "# Execute the tests\n",
        "unittest.main(argv=[''], exit=False)"
      ],
      "metadata": {
        "colab": {
          "base_uri": "https://localhost:8080/"
        },
        "id": "msr9BvVeNmKX",
        "outputId": "1040ea2e-0cb6-4d0a-c3be-f77390f49184"
      },
      "execution_count": 38,
      "outputs": [
        {
          "output_type": "stream",
          "name": "stderr",
          "text": [
            "....\n",
            "----------------------------------------------------------------------\n",
            "Ran 4 tests in 0.009s\n",
            "\n",
            "OK\n"
          ]
        },
        {
          "output_type": "execute_result",
          "data": {
            "text/plain": [
              "<unittest.main.TestProgram at 0x7dbac85ae590>"
            ]
          },
          "metadata": {},
          "execution_count": 38
        }
      ]
    }
  ]
}