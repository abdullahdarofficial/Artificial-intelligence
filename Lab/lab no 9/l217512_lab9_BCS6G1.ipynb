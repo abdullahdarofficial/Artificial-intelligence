{
  "nbformat": 4,
  "nbformat_minor": 0,
  "metadata": {
    "colab": {
      "provenance": []
    },
    "kernelspec": {
      "name": "python3",
      "display_name": "Python 3"
    },
    "language_info": {
      "name": "python"
    }
  },
  "cells": [
    {
      "cell_type": "code",
      "source": [
        "import numpy as np\n",
        "\n",
        "# Define the input data for the AND gate\n",
        "input_data = np.array([[0, 0], [0, 1], [1, 0], [1, 1]])\n",
        "\n",
        "# Define the target output for the AND gate\n",
        "target_output = np.array([[0], [0], [0], [1]])\n",
        "\n",
        "# Define the learning rate and the number of iterations\n",
        "learning_rate = 0.1\n",
        "num_iterations = 10\n",
        "\n",
        "# Define the activation function (step function)\n",
        "def activation_function(x):\n",
        "    return 1 if x >= 0 else 0\n",
        "\n",
        "# Initialize the weights and the bias\n",
        "weights = np.array([0.0, 0.0])\n",
        "bias = 0.0\n",
        "\n",
        "# Train the perceptron\n",
        "for i in range(num_iterations):\n",
        "    for j in range(len(input_data)):\n",
        "        x = input_data[j]\n",
        "        y = target_output[j]\n",
        "\n",
        "        # Calculate the weighted sum of the inputs and the bias\n",
        "        weighted_sum = np.dot(x, weights) + bias\n",
        "\n",
        "        # Calculate the predicted output using the activation function\n",
        "        predicted_output = activation_function(weighted_sum)\n",
        "\n",
        "        # Calculate the error\n",
        "        error = y - predicted_output\n",
        "\n",
        "        # Update the weights and the bias\n",
        "        weights = weights + learning_rate * error * x\n",
        "        bias = bias + learning_rate * error\n",
        "\n",
        "# Print learned weights\n",
        "print(\"Learned weights: \", weights)\n",
        "print(\"Learned bias: \", bias)\n",
        "\n",
        "# Test the perceptron\n",
        "test_inputs = np.array([[0, 0], [0, 1], [1, 0], [1, 1]])\n",
        "for test_input in test_inputs:\n",
        "    weighted_sum = np.dot(test_input, weights) + bias\n",
        "    print(f\"Input: {test_input} Output: {activation_function(weighted_sum)}\")\n"
      ],
      "metadata": {
        "colab": {
          "base_uri": "https://localhost:8080/"
        },
        "id": "jH9dELVrejv2",
        "outputId": "32081be7-5c1c-40c9-eed2-ec2763ec5d30"
      },
      "execution_count": 5,
      "outputs": [
        {
          "output_type": "stream",
          "name": "stdout",
          "text": [
            "Learned weights:  [0.2 0.1]\n",
            "Learned bias:  [-0.2]\n",
            "Input: [0 0] Output: 0\n",
            "Input: [0 1] Output: 0\n",
            "Input: [1 0] Output: 0\n",
            "Input: [1 1] Output: 1\n"
          ]
        }
      ]
    }
  ]
}