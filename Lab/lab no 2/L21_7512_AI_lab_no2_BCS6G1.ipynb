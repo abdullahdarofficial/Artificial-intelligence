{
  "nbformat": 4,
  "nbformat_minor": 0,
  "metadata": {
    "colab": {
      "provenance": []
    },
    "kernelspec": {
      "name": "python3",
      "display_name": "Python 3"
    },
    "language_info": {
      "name": "python"
    }
  },
  "cells": [
    {
      "cell_type": "code",
      "execution_count": null,
      "metadata": {
        "colab": {
          "base_uri": "https://localhost:8080/"
        },
        "id": "O57_Z7E0jYpD",
        "outputId": "b6b020a9-df78-43c9-e60f-e35b867f83b4"
      },
      "outputs": [
        {
          "output_type": "stream",
          "name": "stdout",
          "text": [
            "Input:  [0, 1, 4, 9, 16, 25, 36, 49, 64, 81]\n",
            "Calling Divisible Function\n",
            "Output:  [0, 9, 36, 81]\n"
          ]
        }
      ],
      "source": [
        "# check divisible by 3\n",
        "\n",
        "def get_divisible_by_3(input_list):\n",
        "    print(\"Calling Divisible Function\")\n",
        "    return [x for x in input_list if x % 3 == 0]\n",
        "\n",
        "# Main:\n",
        "list1 = [0, 1, 4, 9, 16, 25, 36, 49, 64, 81]\n",
        "print(\"Input: \", list1)\n",
        "result = get_divisible_by_3(list1)\n",
        "print(\"Output: \",result)\n"
      ]
    },
    {
      "cell_type": "code",
      "source": [
        "# dividing strings into 2 halves\n",
        "\n",
        "def front_back(a, b):\n",
        "    print(\"Calling Front Back Function\")\n",
        "    a_front = a[:(len(a) + 1) // 2]  # front half of a\n",
        "    a_back = a[(len(a) + 1) // 2:]   # back half of a\n",
        "\n",
        "    b_front = b[:(len(b) + 1) // 2]  # front half of b\n",
        "    b_back = b[(len(b) + 1) // 2:]   # back half of b\n",
        "\n",
        "    return a_front + b_front + a_back + b_back\n",
        "\n",
        "# Main:\n",
        "print(\"Input String A: abcde, B: xyz\")\n",
        "result = front_back('abcde', 'xyz')\n",
        "print(\"Output: \",result)\n"
      ],
      "metadata": {
        "colab": {
          "base_uri": "https://localhost:8080/"
        },
        "id": "VGUxy47DlBSQ",
        "outputId": "b13bd3cd-4414-4417-85e0-5c2103d3a7a5"
      },
      "execution_count": null,
      "outputs": [
        {
          "output_type": "stream",
          "name": "stdout",
          "text": [
            "Input String A: abcde, B: xyz\n",
            "Calling Front Back Function\n",
            "Output:  abcxydez\n"
          ]
        }
      ]
    },
    {
      "cell_type": "code",
      "source": [
        "# transpose function\n",
        "\n",
        "def transpose_matrix(matrix):\n",
        "    print(\"Calling Transpose Function\")\n",
        "    return [[row[i] for row in matrix] for i in range(len(matrix[0]))]\n",
        "\n",
        "# Main:\n",
        "matrix = [[1, 2, 3], [4, 5, 6], [7, 8, 9]]\n",
        "print(\"Input: \",matrix)\n",
        "result = transpose_matrix(matrix)\n",
        "print(\"Output: \",result)\n"
      ],
      "metadata": {
        "colab": {
          "base_uri": "https://localhost:8080/"
        },
        "id": "HuVoO1XSl0xO",
        "outputId": "821c7340-00d7-4ad3-fce4-5cc9b75b5d8b"
      },
      "execution_count": null,
      "outputs": [
        {
          "output_type": "stream",
          "name": "stdout",
          "text": [
            "Input:  [[1, 2, 3], [4, 5, 6], [7, 8, 9]]\n",
            "Calling Transpose Function\n",
            "Output:  [[1, 4, 7], [2, 5, 8], [3, 6, 9]]\n"
          ]
        }
      ]
    },
    {
      "cell_type": "code",
      "source": [
        "# sort tuple\n",
        "\n",
        "sorted_tuple = tuple(sorted(tuple1, key=lambda x: x[1]))\n",
        "\n",
        "# Main:\n",
        "tuple1 = (('a', 23), ('b', 37), ('c', 11), ('d', 29))\n",
        "print(\"Input: \",tuple1)\n",
        "print(\"Output: \",sorted_tuple)\n"
      ],
      "metadata": {
        "colab": {
          "base_uri": "https://localhost:8080/"
        },
        "id": "eQdr-fh-msjL",
        "outputId": "6b1400e4-6194-43f9-c61b-582ff95cd426"
      },
      "execution_count": null,
      "outputs": [
        {
          "output_type": "stream",
          "name": "stdout",
          "text": [
            "Input:  (('a', 23), ('b', 37), ('c', 11), ('d', 29))\n",
            "Output:  (('c', 11), ('a', 23), ('d', 29), ('b', 37))\n"
          ]
        }
      ]
    },
    {
      "cell_type": "code",
      "source": [
        "# multiple adjacent elements\n",
        "\n",
        "def multiply_adjacent_elements(tup):\n",
        "    return tuple(tup[i] * tup[i + 1] for i in range(len(tup) - 1))\n",
        "\n",
        "# Main:\n",
        "input_tuple = (1, 5, 7, 8, 10)\n",
        "print(\"Input: \",input_tuple)\n",
        "output_tuple = multiply_adjacent_elements(input_tuple)\n",
        "print(\"Output: \",output_tuple)\n"
      ],
      "metadata": {
        "colab": {
          "base_uri": "https://localhost:8080/"
        },
        "id": "dcBb02gynlXZ",
        "outputId": "eb97a67c-fa98-45eb-f863-09e69e175f65"
      },
      "execution_count": null,
      "outputs": [
        {
          "output_type": "stream",
          "name": "stdout",
          "text": [
            "Input:  (1, 5, 7, 8, 10)\n",
            "Output:  (5, 35, 56, 80)\n"
          ]
        }
      ]
    },
    {
      "cell_type": "code",
      "source": [
        "# factor dictionary function\n",
        "\n",
        "def factor_count_dict(elements):\n",
        "    max_num = max(elements)\n",
        "    factor_count = {}\n",
        "\n",
        "    for i in range(1, max_num + 1):\n",
        "        factor_count[i] = 0\n",
        "\n",
        "    for num in elements:\n",
        "        for i in range(1, num + 1):\n",
        "            if num % i == 0:\n",
        "                factor_count[i] += 1\n",
        "\n",
        "    return factor_count\n",
        "\n",
        "# Main:\n",
        "input_list = [2, 4, 6, 8]\n",
        "print(\"Input: \", input_list)\n",
        "output_dict = factor_count_dict(input_list)\n",
        "print(\"Output: \",output_dict)\n"
      ],
      "metadata": {
        "colab": {
          "base_uri": "https://localhost:8080/"
        },
        "id": "cp81Fnw7n7x3",
        "outputId": "3ee6ab29-a0d1-4fe6-bce9-9c97ad202f48"
      },
      "execution_count": null,
      "outputs": [
        {
          "output_type": "stream",
          "name": "stdout",
          "text": [
            "Input:  [2, 4, 6, 8]\n",
            "Output:  {1: 4, 2: 4, 3: 1, 4: 2, 5: 0, 6: 1, 7: 0, 8: 1}\n"
          ]
        }
      ]
    },
    {
      "cell_type": "code",
      "source": [
        "from datetime import datetime\n",
        "\n",
        "# Function for stock information in form of tuple\n",
        "def create_stock_tuple(purchase_date, purchase_price, shares, symbol, current_price):\n",
        "    return (datetime.strptime(purchase_date, \"%d %b %Y\"), purchase_price, shares, symbol, current_price)\n",
        "\n",
        "# Function to calculate total amount gained / lost for each stock block\n",
        "def calculate_gain_loss(stock_tuple):\n",
        "    purchase_date, purchase_price, shares, symbol, current_price = stock_tuple\n",
        "    total_purchase_amount = shares * purchase_price\n",
        "    total_current_amount = shares * current_price\n",
        "    gain_loss = total_current_amount - total_purchase_amount\n",
        "    return gain_loss\n",
        "\n",
        "# Given stock information\n",
        "stock_info = [\n",
        "    (\"25 Jan 2001\", 43.50, 25, \"CAT\", 92.45),\n",
        "    (\"25 Jan 2001\", 42.80, 50, \"DD\", 51.19),\n",
        "    (\"25 Jan 2001\", 42.10, 75, \"EK\", 34.87),\n",
        "    (\"25 Jan 2001\", 37.58, 100, \"GM\", 37.58)\n",
        "]\n",
        "\n",
        "# Representing stock information as tuples\n",
        "stock_blocks = [create_stock_tuple(*stock) for stock in stock_info]\n",
        "\n",
        "# Main\n",
        "print(\"Input:\")\n",
        "print(\"{:<15} {:<15} {:<10} {:<10} {:<15}\".format(\"Purchase Date\", \"Purchase Price\", \"Shares\", \"Symbol\", \"Current Price\"))\n",
        "for stock in stock_info:\n",
        "    print(\"{:<15} {:<15} {:<10} {:<10} {:<15}\".format(*stock))\n",
        "print(\"Output:- \")\n",
        "for stock_block in stock_blocks:\n",
        "    gain_loss = calculate_gain_loss(stock_block)\n",
        "    print(f\"Symbol: {stock_block[3]}, Gain/Loss: {gain_loss:.2f}\")\n"
      ],
      "metadata": {
        "colab": {
          "base_uri": "https://localhost:8080/"
        },
        "id": "oeKjJPrgpQye",
        "outputId": "f1df58b2-6cba-449c-adfd-399e322bad8d"
      },
      "execution_count": null,
      "outputs": [
        {
          "output_type": "stream",
          "name": "stdout",
          "text": [
            "Input:\n",
            "Purchase Date   Purchase Price  Shares     Symbol     Current Price  \n",
            "25 Jan 2001     43.5            25         CAT        92.45          \n",
            "25 Jan 2001     42.8            50         DD         51.19          \n",
            "25 Jan 2001     42.1            75         EK         34.87          \n",
            "25 Jan 2001     37.58           100        GM         37.58          \n",
            "Output:- \n",
            "Symbol: CAT, Gain/Loss: 1223.75\n",
            "Symbol: DD, Gain/Loss: 419.50\n",
            "Symbol: EK, Gain/Loss: -542.25\n",
            "Symbol: GM, Gain/Loss: 0.00\n"
          ]
        }
      ]
    }
  ]
}