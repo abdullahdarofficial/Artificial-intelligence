{
  "nbformat": 4,
  "nbformat_minor": 0,
  "metadata": {
    "colab": {
      "provenance": []
    },
    "kernelspec": {
      "name": "python3",
      "display_name": "Python 3"
    },
    "language_info": {
      "name": "python"
    }
  },
  "cells": [
    {
      "cell_type": "code",
      "execution_count": 41,
      "metadata": {
        "colab": {
          "base_uri": "https://localhost:8080/"
        },
        "id": "bWmV9b968opv",
        "outputId": "40797e8c-ddcb-4d2b-cf30-11851cb7a39b"
      },
      "outputs": [
        {
          "output_type": "stream",
          "name": "stdout",
          "text": [
            "Original Array:  ['a', 'b', 'c', 'd', 'e']\n",
            "Reversed Array:  ['e', 'd', 'c', 'b', 'a']\n"
          ]
        }
      ],
      "source": [
        "#Reverse function\n",
        "def list_reverse(arr, size):\n",
        "  if(size == 1):\n",
        "    return arr\n",
        "  temp = \" \"\n",
        "  for x in range(0, size//2):\n",
        "    temp = arr[x]\n",
        "    arr[x] = arr[size - x - 1]\n",
        "    arr[size - x - 1] = temp\n",
        "\n",
        "  return arr\n",
        "\n",
        "#main\n",
        "\n",
        "mylist = [\"a\",\"b\",\"c\",\"d\",\"e\"]\n",
        "size = 5\n",
        "print(\"Original Array: \",mylist)\n",
        "print(\"Reversed Array: \", list_reverse(mylist, size))"
      ]
    },
    {
      "cell_type": "code",
      "source": [
        "\n",
        "#Palindrome function\n",
        "def check_Palindrome(arr):\n",
        "\n",
        "  check = True\n",
        "  arr = \"\".join(ch for ch in arr if ch.isalnum())\n",
        "  arr = arr.lower()\n",
        "  size = len(arr)\n",
        "  if size > 1:\n",
        "    for x in range(0, size//2):\n",
        "      if arr[x] != arr[size - x - 1]:\n",
        "        check = False\n",
        "        break\n",
        "\n",
        "  if check == True:\n",
        "    print(\"Output: True\")\n",
        "    print(arr, \"is a plaindrome\")\n",
        "  else:\n",
        "    print(\"Output: False\")\n",
        "    print(arr, \"is not a plaindrome\")\n",
        "\n",
        "#main\n",
        "\n",
        "mylist1 = \"A man, a plan, a canal: Panama\"\n",
        "print(\"Input: \",mylist1)\n",
        "print(check_Palindrome(mylist1))\n",
        "print(\"\")\n",
        "\n",
        "mylist2 = \"race a car\"\n",
        "print(\"Input: \",mylist2)\n",
        "print(check_Palindrome(mylist2))\n"
      ],
      "metadata": {
        "colab": {
          "base_uri": "https://localhost:8080/"
        },
        "id": "FHgvK_Hr_fwO",
        "outputId": "f8a9a3c0-5ef7-42af-a36a-482d3d29e2e0"
      },
      "execution_count": 37,
      "outputs": [
        {
          "output_type": "stream",
          "name": "stdout",
          "text": [
            "Input:  A man, a plan, a canal: Panama\n",
            "Output: True\n",
            "amanaplanacanalpanama is a plaindrome\n",
            "None\n",
            "\n",
            "Input:  race a car\n",
            "Output: False\n",
            "raceacar is not a plaindrome\n",
            "None\n"
          ]
        }
      ]
    },
    {
      "cell_type": "code",
      "source": [
        "#SquareRoot function\n",
        "def Square_Root(x):\n",
        "  if x == 0:\n",
        "    return 0\n",
        "  sqrt =  x**0.5\n",
        "  return int(sqrt)\n",
        "\n",
        "\n",
        "\n",
        "# main\n",
        "\n",
        "inputnum = input()\n",
        "inputConverted = int(inputnum)\n",
        "print(\"Input: \",inputConverted)\n",
        "print(\"Output: \", Square_Root(inputConverted))\n"
      ],
      "metadata": {
        "colab": {
          "base_uri": "https://localhost:8080/"
        },
        "id": "pOKxIxVuJX1J",
        "outputId": "5c0fe1ab-27db-4ed3-83f0-b7c08143baef"
      },
      "execution_count": 40,
      "outputs": [
        {
          "output_type": "stream",
          "name": "stdout",
          "text": [
            "16\n",
            "Input:  16\n",
            "Output:  4\n"
          ]
        }
      ]
    }
  ]
}