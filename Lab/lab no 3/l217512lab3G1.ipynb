{
  "nbformat": 4,
  "nbformat_minor": 0,
  "metadata": {
    "colab": {
      "provenance": []
    },
    "kernelspec": {
      "name": "python3",
      "display_name": "Python 3"
    },
    "language_info": {
      "name": "python"
    }
  },
  "cells": [
    {
      "cell_type": "code",
      "execution_count": 12,
      "metadata": {
        "colab": {
          "base_uri": "https://localhost:8080/"
        },
        "id": "d-VpEbxeAiRb",
        "outputId": "0fb091b0-0d2b-441b-9966-db6366c93263"
      },
      "outputs": [
        {
          "output_type": "stream",
          "name": "stdout",
          "text": [
            "List 1 :  [1, 3, 5, 7, 9]\n",
            "List 2 :  [2, 4, 6, 8, 10]\n",
            "Merged List:  [1, 2, 3, 4, 5, 6, 7, 8, 9, 10]\n"
          ]
        }
      ],
      "source": [
        "# Linear Merge\n",
        "\n",
        "def linear_merge(list1, list2):\n",
        "  mergedList = []\n",
        "  i = 0\n",
        "  j = 0\n",
        "  while i < len(list1) and j < len(list2):\n",
        "    if list1[i] < list2[j]:\n",
        "      mergedList.append(list1[i])\n",
        "      i+=1\n",
        "    else:\n",
        "      mergedList.append(list2[j])\n",
        "      j+=1\n",
        "  if i < j:\n",
        "    mergedList.extend(list1[i:])\n",
        "  else:\n",
        "    mergedList.extend(list2[j:])\n",
        "  return mergedList\n",
        "\n",
        "list1 = [1,3,5,7,9]\n",
        "list2 = [2,4,6,8,10]\n",
        "\n",
        "print('List 1 : ', list1)\n",
        "print('List 2 : ', list2)\n",
        "print('Merged List: ', linear_merge(list1, list2))\n"
      ]
    },
    {
      "cell_type": "code",
      "source": [
        "# Initiallize Dictionary\n",
        "\n",
        "def Initiallize_Dictionary(employees, defaults):\n",
        "  result = {employee: defaults for employee in employees}\n",
        "  return result\n",
        "\n",
        "employees = ['Kelly', 'Emma', 'John']\n",
        "defaults = {\"designation\": 'Application Developer', \"Salary\": 8000}\n",
        "print('Input: Employees: ',employees, 'Defaults: ', defaults)\n",
        "print('Output: ', Initiallize_Dictionary(employees, defaults))\n"
      ],
      "metadata": {
        "colab": {
          "base_uri": "https://localhost:8080/"
        },
        "id": "tKK-T8tBFnkq",
        "outputId": "bb1dde62-ae6f-495a-c3b0-059435fef77b"
      },
      "execution_count": 13,
      "outputs": [
        {
          "output_type": "stream",
          "name": "stdout",
          "text": [
            "Input: Employees:  ['Kelly', 'Emma', 'John'] Defaults:  {'designation': 'Application Developer', 'Salary': 8000}\n",
            "Output:  {'Kelly': {'designation': 'Application Developer', 'Salary': 8000}, 'Emma': {'designation': 'Application Developer', 'Salary': 8000}, 'John': {'designation': 'Application Developer', 'Salary': 8000}}\n"
          ]
        }
      ]
    },
    {
      "cell_type": "code",
      "source": [
        "# Delete Keys\n",
        "\n",
        "def Delete_Keys(dicti, keys):\n",
        "   result = {key: dicti[key] for key in dicti if key not in keys}\n",
        "   return result\n",
        "\n",
        "\n",
        "sampleDict = {\n",
        "    \"name\" : \"Kelly\",\n",
        "    \"age\" : 25,\n",
        "    \"salary\" : 8000,\n",
        "    \"city\" : \"New york\"\n",
        "}\n",
        "\n",
        "keysToRemove = [\"name\", \"salary\"]\n",
        "\n",
        "print('Input: sample dictionary ',sampleDict, \"Keys to remove: \", keysToRemove)\n",
        "print('Output: ', Delete_Keys(sampleDict, keysToRemove))"
      ],
      "metadata": {
        "colab": {
          "base_uri": "https://localhost:8080/"
        },
        "id": "HTYbcZaCHbzp",
        "outputId": "5a07ad9d-4047-40e5-b573-63d798020f18"
      },
      "execution_count": 21,
      "outputs": [
        {
          "output_type": "stream",
          "name": "stdout",
          "text": [
            "Input: sample dictionary  {'name': 'Kelly', 'age': 25, 'salary': 8000, 'city': 'New york'} Keys to remove:  ['name', 'salary']\n",
            "Output:  {'age': 25, 'city': 'New york'}\n"
          ]
        }
      ]
    },
    {
      "cell_type": "code",
      "source": [
        "# Set Operations\n",
        "\n",
        "def Non_Common_Elements(set1, set2):\n",
        "\n",
        "  set3 = set1.union(set2)\n",
        "  set4 = set1.intersection(set2)\n",
        "  set5 = set4.symmetric_difference(set3)\n",
        "  return set5\n",
        "\n",
        "\n",
        "set1 = {'0', '1', '5'}\n",
        "set2 = {'1', '2', '4', '5'}\n",
        "print('Input Set1: ',set1, 'Set2: ', set2)\n",
        "print('Outpyt: ',Non_Common_Elements(set1, set2))"
      ],
      "metadata": {
        "colab": {
          "base_uri": "https://localhost:8080/"
        },
        "id": "sfvHhOgOJcF5",
        "outputId": "13426dbd-1ade-446b-b392-31baa3f40584"
      },
      "execution_count": 29,
      "outputs": [
        {
          "output_type": "stream",
          "name": "stdout",
          "text": [
            "Input Set1:  {'5', '0', '1'} Set2:  {'4', '2', '1', '5'}\n",
            "Outpyt:  {'4', '2', '0'}\n"
          ]
        }
      ]
    },
    {
      "cell_type": "code",
      "source": [
        "# Exception Handling\n",
        "\n",
        "def divide(num1, num2):\n",
        "  try:\n",
        "    x = num1 / num2\n",
        "    print('output: ',x)\n",
        "  except ZeroDivisionError:\n",
        "    print(\"Infinity\")\n",
        "  finally:\n",
        "    print('Division Function executed')\n",
        "\n",
        "\n",
        "num1 = 10\n",
        "num2 = 5\n",
        "print('Input Num1: ',num1, \" Num2: \", num2)\n",
        "divide(num1, num2)\n",
        "\n",
        "num1 = 10\n",
        "num2 = 0\n",
        "print('Input Num1: ',num1, \" Num2: \", num2)\n",
        "divide(num1, num2)"
      ],
      "metadata": {
        "colab": {
          "base_uri": "https://localhost:8080/"
        },
        "id": "O1d8-w6ZLceY",
        "outputId": "4706e864-33d8-4983-d44a-3169b3bfedc9"
      },
      "execution_count": 43,
      "outputs": [
        {
          "output_type": "stream",
          "name": "stdout",
          "text": [
            "Input Num1:  10  Num2:  5\n",
            "output:  2.0\n",
            "Division Function executed\n",
            "Input Num1:  10  Num2:  0\n",
            "Infinity\n",
            "Division Function executed\n"
          ]
        }
      ]
    }
  ]
}