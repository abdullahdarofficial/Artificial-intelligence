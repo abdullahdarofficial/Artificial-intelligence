{
 "cells": [
  {
   "cell_type": "code",
   "execution_count": 116,
   "id": "69c48c14",
   "metadata": {},
   "outputs": [
    {
     "name": "stdout",
     "output_type": "stream",
     "text": [
      "Original String:  Intelligence\n",
      "New Created String:  Intnce\n"
     ]
    }
   ],
   "source": [
    "#Strings from both ends\n",
    "\n",
    "def create_both_strings(str):\n",
    "    if len(str) < 3:\n",
    "        return ''\n",
    "    else:\n",
    "        return str[:3] + str[-3:]\n",
    "    \n",
    "    \n",
    "str = 'Intelligence'\n",
    "new_str = create_both_strings(str)\n",
    "print('Original String: ', str)\n",
    "print('New Created String: ', new_str)\n"
   ]
  },
  {
   "cell_type": "code",
   "execution_count": 118,
   "id": "ba5fff54",
   "metadata": {},
   "outputs": [
    {
     "name": "stdout",
     "output_type": "stream",
     "text": [
      "Original String:  Ooogle\n",
      "Modified String:  O@@gle\n"
     ]
    }
   ],
   "source": [
    "# Replace occurrences of first character\n",
    "\n",
    "def replace_occurrences(str):\n",
    "    size = len(str)\n",
    "    if size == 0:\n",
    "        return ''\n",
    "    first_char = str[0]\n",
    "    new_s = first_char + str[1:].replace(first_char, '@')\n",
    "    lfirst_char = first_char.lower()\n",
    "    new_s = first_char + new_s[1:].replace(lfirst_char, '@')\n",
    "    \n",
    "        \n",
    "    return new_s\n",
    "\n",
    "str = 'Ooogle'\n",
    "new_str = replace_occurrences(str)\n",
    "print('Original String: ',str)\n",
    "print('Modified String: ', new_str)\n",
    "    "
   ]
  },
  {
   "cell_type": "code",
   "execution_count": 119,
   "id": "34d8cf7b",
   "metadata": {},
   "outputs": [
    {
     "name": "stdout",
     "output_type": "stream",
     "text": [
      "a :  dog  b :  dinner\n",
      "Modified string :  dig donner\n"
     ]
    }
   ],
   "source": [
    "# String Jumble\n",
    "\n",
    "def string_jumble(a, b):\n",
    "    if len(a) < 2 or len(b) < 2:\n",
    "        return ''\n",
    "    atwochar = a[:2]\n",
    "    btwochar = b[:2]\n",
    "    \n",
    "    new_str = btwochar + a[2:]+ ' ' + atwochar + b[2:]\n",
    "    return new_str\n",
    "\n",
    "\n",
    "a = 'dog'\n",
    "b = 'dinner'\n",
    "new_st = string_jumble(a, b)\n",
    "print('a : ', a, ' b : ', b)\n",
    "print('Modified string : ', new_st)"
   ]
  },
  {
   "cell_type": "code",
   "execution_count": 120,
   "id": "f812b824",
   "metadata": {},
   "outputs": [
    {
     "name": "stdout",
     "output_type": "stream",
     "text": [
      "List of strings:  ['mix', 'xyz', 'apple', 'xanadu', 'aardvark']\n",
      "Modified Sorted Strings:  ['aardvark', 'apple', 'mix', 'xanadu', 'xyz']\n"
     ]
    }
   ],
   "source": [
    "#list sort\n",
    "\n",
    "def list_sort(strings):\n",
    "    \n",
    "    astr = [s for s in strings if s.startswith('a')]\n",
    "    otherstr = [s for s in strings if not s.startswith('a')] \n",
    "    sorted_a_strings = sorted(astr)\n",
    "    sortedotrstr = sorted(otherstr)\n",
    "    result = sorted_a_strings + sortedotrstr\n",
    "    \n",
    "    return result\n",
    "\n",
    "liststr = ['mix', 'xyz', 'apple', 'xanadu', 'aardvark']\n",
    "mod_strings = list_sort(liststr)\n",
    "\n",
    "print('List of strings: ', liststr)\n",
    "print('Modified Sorted Strings: ', mod_strings)"
   ]
  },
  {
   "cell_type": "code",
   "execution_count": 122,
   "id": "44801ffe",
   "metadata": {},
   "outputs": [
    {
     "name": "stdout",
     "output_type": "stream",
     "text": [
      "Tuples:  [(1, 7), (1, 3), (3, 4, 5), (2, 2)]\n",
      "Sorted Tuples:  [(2, 2), (1, 3), (3, 4, 5), (1, 7)]\n"
     ]
    }
   ],
   "source": [
    "#sort tuples\n",
    "\n",
    "def getlastele(tup):\n",
    "        return tup[-1]\n",
    "    \n",
    "def sort_tuples(tuples):\n",
    "   \n",
    "    sorted_list = sorted(tuples, key=getlastele)\n",
    "    return sorted_list\n",
    "    \n",
    "tuples = [(1, 7), (1, 3), (3, 4, 5), (2, 2)] \n",
    "newList = sort_tuples(tuples)\n",
    "print('Tuples: ', tuples)\n",
    "print('Sorted Tuples: ', newList)"
   ]
  },
  {
   "cell_type": "code",
   "execution_count": 124,
   "id": "5627d32b",
   "metadata": {},
   "outputs": [
    {
     "name": "stdout",
     "output_type": "stream",
     "text": [
      "Tasks:  [(3, 5), (2, 7), (4, 3), (1, 8)]\n",
      "Time Constraint:  8\n",
      "Optimal Schedule List: (start, end)  [(0, 1), (1, 3), (3, 6)]\n",
      "\n",
      "Reference# Optimal Tasks List: [(1, 8), (2, 7), (3, 5)]\n"
     ]
    }
   ],
   "source": [
    "# Optimize Schedule\n",
    "\n",
    "def getlastele(tup):\n",
    "        return tup[-1]\n",
    "    \n",
    "def sort_tuples(tuples):\n",
    "    sorted_list = sorted(tuples, key=getlastele)\n",
    "    return sorted_list\n",
    "\n",
    "def optimize_schedule(tasks, timeConst):\n",
    "\n",
    "    sortedTasks = sort_tuples(tasks)\n",
    "    sortedTasks.reverse()\n",
    "    currtime = 0\n",
    "    optimalScheduleList = []\n",
    "    optimalTaskList = []\n",
    "    for dur, pror in sortedTasks:\n",
    "        if currtime + dur <= timeConst:\n",
    "            start = currtime\n",
    "            end = currtime + dur\n",
    "            optimalScheduleList.append((start, end))\n",
    "            currtime = end\n",
    "            optimalTaskList.append((dur, pror))\n",
    "            \n",
    "    return optimalScheduleList, optimalTaskList\n",
    "\n",
    "\n",
    "tasks = [(3, 5), (2, 7), (4, 3), (1, 8)]\n",
    "#durations 3, 2, 4, 1\n",
    "#priorities 5, 7, 3, 8\n",
    "timeConst = 8\n",
    "optSchList , optTaskList = optimize_schedule(tasks, timeConst)\n",
    "print('Tasks: ', tasks)\n",
    "print('Time Constraint: ',timeConst)\n",
    "print(\"Optimal Schedule List: (start, end) \", optSchList)\n",
    "print('')\n",
    "print(\"Reference# Optimal Tasks List:\", optTaskList) #optional told by instructor during mid.\n"
   ]
  }
 ],
 "metadata": {
  "kernelspec": {
   "display_name": "Python 3",
   "language": "python",
   "name": "python3"
  },
  "language_info": {
   "codemirror_mode": {
    "name": "ipython",
    "version": 3
   },
   "file_extension": ".py",
   "mimetype": "text/x-python",
   "name": "python",
   "nbconvert_exporter": "python",
   "pygments_lexer": "ipython3",
   "version": "3.8.8"
  }
 },
 "nbformat": 4,
 "nbformat_minor": 5
}
