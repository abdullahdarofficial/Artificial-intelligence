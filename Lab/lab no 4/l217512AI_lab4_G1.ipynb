{
  "nbformat": 4,
  "nbformat_minor": 0,
  "metadata": {
    "colab": {
      "provenance": []
    },
    "kernelspec": {
      "name": "python3",
      "display_name": "Python 3"
    },
    "language_info": {
      "name": "python"
    }
  },
  "cells": [
    {
      "cell_type": "code",
      "execution_count": 2,
      "metadata": {
        "colab": {
          "base_uri": "https://localhost:8080/"
        },
        "id": "EON1Q1zfCtvI",
        "outputId": "b6131fdd-49d4-4598-c90a-90bf63b196bc"
      },
      "outputs": [
        {
          "output_type": "stream",
          "name": "stdout",
          "text": [
            "Drive already mounted at /content/drive; to attempt to forcibly remount, call drive.mount(\"/content/drive\", force_remount=True).\n"
          ]
        }
      ],
      "source": [
        "from google.colab import drive\n",
        "drive.mount('/content/drive')"
      ]
    },
    {
      "cell_type": "code",
      "source": [
        "def import_matrix_from_file(filepath):\n",
        "    with open(filepath, 'r') as file:\n",
        "        matrix = [list(map(lambda x: int(x) if x.isdigit() else x, line.strip())) for line in file]\n",
        "    return matrix\n",
        "\n",
        "def is_valid_move(matrix, row, col):\n",
        "    return 0 <= row < len(matrix) and 0 <= col < len(matrix[0]) and matrix[row][col] != 1\n",
        "\n",
        "def find_start_and_goal_positions(matrix):\n",
        "  for i in range(len(matrix)):\n",
        "    for j in range(len(matrix[0])):\n",
        "      if matrix[i][j] == 'S':\n",
        "        s_pos = (i,j)\n",
        "      elif matrix[i][j] == 'G':\n",
        "        g_pos = (i,j)\n",
        "  return s_pos, g_pos\n",
        "\n",
        "def bfs_for_finding_path(matrix):\n",
        "  num_rows = len(matrix)\n",
        "  num_cols = len(matrix[0]) if matrix else 0\n",
        "  queue = [(s_pos[0], s_pos[1], [])]\n",
        "  visited = set()\n",
        "\n",
        "  while(queue):\n",
        "    row, col, path = queue.pop(0)\n",
        "    if(row, col) == g_pos:\n",
        "      return path + [(row, col)]\n",
        "\n",
        "    visited.add((row,col))\n",
        "    directions = [(0,1), (1,0), (0,-1), (-1,0)]\n",
        "    for dr, dc in directions:\n",
        "      new_row = row + dr\n",
        "      new_col = col + dc\n",
        "      if 0 <= new_row < num_rows and 0 <= new_col < num_cols and is_valid_move(matrix, new_row, new_col) and(new_row, new_col) not in visited:\n",
        "        queue.append((new_row, new_col, path + [(row, col)]))\n",
        "        visited.add((new_row, new_col))\n",
        "\n",
        "  return None\n",
        "\n",
        "def dfs_for_finding_path(matrix):\n",
        "    num_rows = len(matrix)\n",
        "    num_cols = len(matrix[0]) if matrix else 0\n",
        "    stack = [(s_pos[0], s_pos[1], [])]\n",
        "    visited = set()\n",
        "\n",
        "    while stack:\n",
        "        row, col, path = stack.pop()\n",
        "        if (row, col) == g_pos:\n",
        "            return path + [(row, col)]\n",
        "\n",
        "        visited.add((row, col))\n",
        "        directions = [(0, 1), (1, 0), (0, -1), (-1, 0)]\n",
        "        for dr, dc in directions:\n",
        "            new_row = row + dr\n",
        "            new_col = col + dc\n",
        "            if 0 <= new_row < num_rows and 0 <= new_col < num_cols and is_valid_move(matrix, new_row, new_col) and (new_row, new_col) not in visited:\n",
        "                stack.append((new_row, new_col, path + [(row, col)]))\n",
        "                visited.add((new_row, new_col))\n",
        "\n",
        "    return None\n",
        "\n",
        "# main\n",
        "\n",
        "matrix_filepath = '/content/drive/My Drive/sampledata/matrix.txt'\n",
        "matrix = import_matrix_from_file(matrix_filepath)\n",
        "print('Matrix:')\n",
        "for row in matrix:\n",
        "    print(row)\n",
        "\n",
        "s_pos, g_pos = find_start_and_goal_positions(matrix)\n",
        "\n",
        "bfs_path = bfs_for_finding_path(matrix)\n",
        "if bfs_path:\n",
        "    print('\\nBFS Path:', bfs_path)\n",
        "else:\n",
        "    print('\\nNo path found for BFS.')\n",
        "\n",
        "dfs_path = dfs_for_finding_path(matrix)\n",
        "if dfs_path:\n",
        "    print('\\nDFS Path:', dfs_path)\n",
        "else:\n",
        "    print('\\nNo path found for DFS.')\n"
      ],
      "metadata": {
        "colab": {
          "base_uri": "https://localhost:8080/"
        },
        "id": "4QoXqolNGq58",
        "outputId": "b21cdf07-e019-4790-b260-14d5c959f591"
      },
      "execution_count": 231,
      "outputs": [
        {
          "output_type": "stream",
          "name": "stdout",
          "text": [
            "Matrix:\n",
            "['S', 0, 1, 0, 0, 0, 0]\n",
            "[1, 0, 0, 0, 1, 1, 0]\n",
            "[0, 0, 1, 1, 1, 0, 0]\n",
            "[0, 1, 0, 0, 0, 1, 1]\n",
            "[0, 0, 0, 1, 0, 1, 1]\n",
            "[1, 1, 1, 1, 0, 1, 1]\n",
            "[1, 0, 1, 1, 0, 0, 'G']\n",
            "\n",
            "BFS Path: [(0, 0), (0, 1), (1, 1), (2, 1), (2, 0), (3, 0), (4, 0), (4, 1), (4, 2), (3, 2), (3, 3), (3, 4), (4, 4), (5, 4), (6, 4), (6, 5), (6, 6)]\n",
            "\n",
            "DFS Path: [(0, 0), (0, 1), (1, 1), (2, 1), (2, 0), (3, 0), (4, 0), (4, 1), (4, 2), (3, 2), (3, 3), (3, 4), (4, 4), (5, 4), (6, 4), (6, 5), (6, 6)]\n"
          ]
        }
      ]
    },
    {
      "cell_type": "code",
      "source": [
        "\n",
        "def uniform_cost_search_for_graph(graph, start_node, goal_node):\n",
        "    to_explore = [(0, start_node, [])]\n",
        "    explored = set()\n",
        "\n",
        "    while to_explore:\n",
        "        current_cost, current_state, current_path = to_explore.pop(0)\n",
        "\n",
        "        if current_state == goal_node:\n",
        "            return current_path + [current_state], current_cost\n",
        "\n",
        "        if current_state not in explored:\n",
        "            explored.add(current_state)\n",
        "\n",
        "            for neighbor, cost in graph[current_state]:\n",
        "                if neighbor not in explored:\n",
        "                    new_cost = current_cost + cost\n",
        "                    new_path = current_path + [current_state]\n",
        "                    to_explore.append((new_cost, neighbor, new_path))\n",
        "                    to_explore.sort()\n",
        "\n",
        "    return None, float('inf')\n",
        "\n",
        "# main\n",
        "graph = {\n",
        "    'A': [('B', 2), ('C', 3)],\n",
        "    'B': [('A', 2), ('D', 5)],\n",
        "    'C': [('A', 3), ('D', 1), ('E', 4)],\n",
        "    'D': [('B', 5), ('C', 1), ('F', 2)],\n",
        "    'E': [('C', 4), ('F', 7)],\n",
        "    'F': [('D', 2), ('E', 7), ('G', 3)],\n",
        "    'G': [('F', 3), ('H', 5)],\n",
        "    'H': [('G', 5)]\n",
        "}\n",
        "\n",
        "\n",
        "start_node = 'A'\n",
        "goal_node = 'H'\n",
        "\n",
        "print('Starting Node: ',start_node)\n",
        "print('Goal Node: ', goal_node)\n",
        "\n",
        "path, cost = uniform_cost_search_for_graph(graph, start_node, goal_node)\n",
        "\n",
        "if path:\n",
        "    print(\"Optimal Path:\", path)\n",
        "    print(\"Total Cost:\", cost)\n",
        "else:\n",
        "    print(\"No path found.\")\n"
      ],
      "metadata": {
        "colab": {
          "base_uri": "https://localhost:8080/"
        },
        "id": "XFprViWMKOCH",
        "outputId": "cdb51e0e-c73c-445a-ce37-227b8a1085e1"
      },
      "execution_count": 230,
      "outputs": [
        {
          "output_type": "stream",
          "name": "stdout",
          "text": [
            "Starting Node:  A\n",
            "Goal Node:  H\n",
            "Optimal Path: ['A', 'C', 'D', 'F', 'G', 'H']\n",
            "Total Cost: 14\n"
          ]
        }
      ]
    },
    {
      "cell_type": "code",
      "source": [
        "def import_cube_from_file(filepath):\n",
        "    with open(filepath, 'r') as file:\n",
        "        cube = [list(map(lambda x: int(x) if x.isdigit() else x, line.strip())) for line in file]\n",
        "    return cube\n",
        "\n",
        "def heuristic(pos, goal):\n",
        "    return abs(pos[0] - goal[0]) + abs(pos[1] - goal[1])\n",
        "\n",
        "def find_start_and_goal_positions(cube):\n",
        "    s_pos = None\n",
        "    g_pos = None\n",
        "    for i in range(len(cube)):\n",
        "        for j in range(len(cube[0])):\n",
        "            if cube[i][j] == 'S':\n",
        "                s_pos = (i, j)\n",
        "            elif cube[i][j] == 'G':\n",
        "                g_pos = (i, j)\n",
        "    return s_pos, g_pos\n",
        "\n",
        "def a_star_cube_solver(cube, s_pos, g_pos):\n",
        "    num_rows = len(cube)\n",
        "    num_cols = len(cube[0])\n",
        "    start = s_pos\n",
        "    goal = g_pos\n",
        "\n",
        "    priority_queue = [(0, start, [])]\n",
        "    visited = set()\n",
        "\n",
        "    while priority_queue:\n",
        "        priority_queue.sort()\n",
        "        current_cost, current, path = priority_queue.pop(0)\n",
        "\n",
        "        if current == goal:\n",
        "            return path + [current]\n",
        "\n",
        "        visited.add(current)\n",
        "        directions = [(0, 1), (1, 0), (0, -1), (-1, 0)]\n",
        "\n",
        "        for dr, dc in directions:\n",
        "            new_row = current[0] + dr\n",
        "            new_col = current[1] + dc\n",
        "\n",
        "            if 0 <= new_row < num_rows and 0 <= new_col < num_cols and (new_row, new_col) not in visited:\n",
        "                new_position = (new_row, new_col)\n",
        "                if cube[new_row][new_col] == 1:\n",
        "                    continue\n",
        "                elif cube[new_row][new_col] == 2:\n",
        "                    new_row += dr\n",
        "                    new_col += dc\n",
        "                    if not (0 <= new_row < num_rows and 0 <= new_col < num_cols) or cube[new_row][new_col] == 1:\n",
        "                        continue\n",
        "\n",
        "                new_cost = len([w for w in path if cube[w[0]][w[1]] == 2])\n",
        "                new_cost += 1 if cube[new_row][new_col] == 2 else 0\n",
        "                new_cost += heuristic(new_position, goal)\n",
        "\n",
        "                priority_queue.append((new_cost, new_position, path + [current]))\n",
        "\n",
        "    return None\n",
        "\n",
        "# main\n",
        "filepath = '/content/drive/My Drive/sampledata/cube.txt'\n",
        "cube = import_cube_from_file(filepath)\n",
        "print('Cube:')\n",
        "for row in cube:\n",
        "    print(row)\n",
        "\n",
        "s_pos, g_pos = find_start_and_goal_positions(cube)\n",
        "\n",
        "cube_solver_path = a_star_cube_solver(cube, s_pos, g_pos)\n",
        "if cube_solver_path:\n",
        "    print('\\nPath:', cube_solver_path)\n",
        "else:\n",
        "    print('\\nNo path found.')\n"
      ],
      "metadata": {
        "colab": {
          "base_uri": "https://localhost:8080/"
        },
        "id": "Nq-d68vVQrIU",
        "outputId": "456b0ad7-5c79-40ff-c126-168e88155479"
      },
      "execution_count": 229,
      "outputs": [
        {
          "output_type": "stream",
          "name": "stdout",
          "text": [
            "Cube:\n",
            "[1, 0, 'S', 0, 1, 0, 0]\n",
            "[1, 1, 0, 0, 0, 1, 1]\n",
            "[0, 1, 0, 1, 2, 0, 0]\n",
            "[1, 1, 2, 1, 1, 2, 1]\n",
            "[0, 1, 0, 2, 0, 2, 0]\n",
            "[0, 1, 1, 1, 0, 1, 1]\n",
            "['G', 0, 0, 0, 0, 0, 0]\n",
            "\n",
            "Path: [(0, 2), (1, 2), (2, 2), (3, 2), (4, 2), (4, 3), (4, 4), (5, 4), (6, 4), (6, 3), (6, 2), (6, 1), (6, 0)]\n"
          ]
        }
      ]
    }
  ]
}